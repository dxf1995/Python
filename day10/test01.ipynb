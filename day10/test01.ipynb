{
 "cells": [
  {
   "cell_type": "code",
   "execution_count": 2,
   "metadata": {},
   "outputs": [
    {
     "data": {
      "text/plain": [
       "{0: 0.0746797612425046,\n",
       " 1: -0.3283336081880453,\n",
       " 2: 0.06869598099967619,\n",
       " 3: 0.6998053612596821,\n",
       " 4: -0.41491345937844376,\n",
       " 5: 0.13822130031016167,\n",
       " 6: 0.2738275133296182}"
      ]
     },
     "execution_count": 2,
     "metadata": {},
     "output_type": "execute_result"
    }
   ],
   "source": [
    "import numpy as np\r\n",
    "data = { i : np.random.randn() for i in range(7) }\r\n",
    "data"
   ]
  }
 ],
 "metadata": {
  "interpreter": {
   "hash": "18daf5ff2fb382566be5b6d7c2c24f13753f676ddd3a68fe2656de8d387c6d95"
  },
  "kernelspec": {
   "display_name": "Python 3.9.5 64-bit",
   "name": "python3"
  },
  "language_info": {
   "codemirror_mode": {
    "name": "ipython",
    "version": 3
   },
   "file_extension": ".py",
   "mimetype": "text/x-python",
   "name": "python",
   "nbconvert_exporter": "python",
   "pygments_lexer": "ipython3",
   "version": "3.9.5"
  },
  "orig_nbformat": 4
 },
 "nbformat": 4,
 "nbformat_minor": 2
}